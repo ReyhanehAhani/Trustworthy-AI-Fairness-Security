{
  "cells": [
    {
      "cell_type": "code",
      "execution_count": null,
      "metadata": {
        "colab": {
          "base_uri": "https://localhost:8080/"
        },
        "id": "u5ljy8dOttfR",
        "outputId": "22575a64-f8e6-470d-b119-b4928128d50b"
      },
      "outputs": [],
      "source": [
        "from google.colab import drive\n",
        "drive.mount('/content/drive')"
      ]
    },
    {
      "cell_type": "code",
      "execution_count": null,
      "metadata": {
        "id": "SfI6txnhtxH9"
      },
      "outputs": [],
      "source": [
        "import pandas as pd\n",
        "import numpy as np\n",
        "from sklearn.model_selection import train_test_split"
      ]
    },
    {
      "cell_type": "markdown",
      "metadata": {
        "id": "BEBXeD_pvuuI"
      },
      "source": [
        "# Data and evaluation\n",
        "## Data loading"
      ]
    },
    {
      "cell_type": "code",
      "execution_count": null,
      "metadata": {
        "id": "5EjHaKYWu0cu"
      },
      "outputs": [],
      "source": [
        "df = pd.read_csv('/content/drive/MyDrive/TAI_HW4_FAIRNESS/data.csv')"
      ]
    },
    {
      "cell_type": "code",
      "execution_count": null,
      "metadata": {
        "colab": {
          "base_uri": "https://localhost:8080/",
          "height": 290
        },
        "id": "G0aEXg8HvGS5",
        "outputId": "e872a9b9-e8b4-465a-c2c5-ed9674bae278"
      },
      "outputs": [],
      "source": [
        "df.head()"
      ]
    },
    {
      "cell_type": "code",
      "execution_count": null,
      "metadata": {
        "colab": {
          "base_uri": "https://localhost:8080/",
          "height": 300
        },
        "id": "bTrFPpfgu9jV",
        "outputId": "f3a75335-f655-40c6-8bdb-17c33772f07c"
      },
      "outputs": [],
      "source": [
        "df.describe()"
      ]
    },
    {
      "cell_type": "code",
      "execution_count": null,
      "metadata": {
        "colab": {
          "base_uri": "https://localhost:8080/"
        },
        "id": "r33XsBQxvMha",
        "outputId": "4945a4e5-8024-46a7-a213-03b6ad97b5ab"
      },
      "outputs": [],
      "source": [
        "df.dtypes"
      ]
    },
    {
      "cell_type": "code",
      "execution_count": null,
      "metadata": {
        "id": "uHdCyblLvWhv"
      },
      "outputs": [],
      "source": [
        "features = list(df.columns)\n",
        "features.remove('income')"
      ]
    },
    {
      "cell_type": "markdown",
      "metadata": {
        "id": "1pfokoHgwQND"
      },
      "source": [
        "## Evaluation metrics"
      ]
    },
    {
      "cell_type": "code",
      "execution_count": null,
      "metadata": {
        "id": "PBJTfadpwVEh"
      },
      "outputs": [],
      "source": [
        "MALE = 1\n",
        "FEMALE = 0\n",
        "\n",
        "def zemel_fairness(y_pred, genders):\n",
        "  # zemel_fairness = P(Y=1 | gender=MALE) - P(Y=1 | gender=FEMALE)\n",
        "\n",
        "  p_pos_gender0 = np.mean(y_pred[genders == MALE])\n",
        "  p_pos_gender1 = np.mean(y_pred[genders == FEMALE])\n",
        "\n",
        "  return p_pos_gender0 - p_pos_gender1"
      ]
    },
    {
      "cell_type": "code",
      "execution_count": null,
      "metadata": {
        "id": "KqB3epO0yq5b"
      },
      "outputs": [],
      "source": [
        "def disparate_impact(y_pred, genders):\n",
        "  # disparate_impact = P(Y=1 | gender=FEMALE) - P(Y=1 | gender=FEMALE)\n",
        "\n",
        "  p_pos_gender0 = np.mean(y_pred[genders == MALE])\n",
        "  p_pos_gender1 = np.mean(y_pred[genders == FEMALE])\n",
        "\n",
        "  return p_pos_gender1 / p_pos_gender0"
      ]
    },
    {
      "cell_type": "markdown",
      "metadata": {
        "id": "v1VizJ76zesZ"
      },
      "source": [
        "Testing the metrics on dataset:"
      ]
    },
    {
      "cell_type": "code",
      "execution_count": null,
      "metadata": {
        "colab": {
          "base_uri": "https://localhost:8080/"
        },
        "id": "co3oI8t_zN3Y",
        "outputId": "0875bd98-fb33-4557-8260-2331763dbfbb"
      },
      "outputs": [],
      "source": [
        "zemel_fairness(df['income'], df['gender'])"
      ]
    },
    {
      "cell_type": "code",
      "execution_count": null,
      "metadata": {
        "colab": {
          "base_uri": "https://localhost:8080/"
        },
        "id": "IxXHnQgYzS_G",
        "outputId": "b82ab797-7208-4bbd-e806-8a2daade9253"
      },
      "outputs": [],
      "source": [
        "disparate_impact(df['income'], df['gender'])"
      ]
    },
    {
      "cell_type": "markdown",
      "metadata": {
        "id": "F0u2w23bzjsq"
      },
      "source": [
        "# Base model implementation"
      ]
    },
    {
      "cell_type": "code",
      "execution_count": null,
      "metadata": {
        "id": "U49VLyEpzizb"
      },
      "outputs": [],
      "source": [
        "train, test = train_test_split(df, test_size=0.3)"
      ]
    },
    {
      "cell_type": "code",
      "execution_count": null,
      "metadata": {
        "id": "KCLQ5vnRz8VO"
      },
      "outputs": [],
      "source": [
        "x_train, y_train = train[features], train['income']\n",
        "x_test, y_test = test[features], test['income']"
      ]
    },
    {
      "cell_type": "code",
      "execution_count": null,
      "metadata": {
        "id": "vthLdQg90jAA"
      },
      "outputs": [],
      "source": [
        "from sklearn.pipeline import make_pipeline\n",
        "from sklearn.preprocessing import StandardScaler\n",
        "import xgboost as xgb"
      ]
    },
    {
      "cell_type": "code",
      "execution_count": null,
      "metadata": {
        "colab": {
          "base_uri": "https://localhost:8080/",
          "height": 125
        },
        "id": "BKn5dA9B0yOU",
        "outputId": "accd0323-42a1-4723-b9d0-1c5e51ec5196"
      },
      "outputs": [],
      "source": [
        "clf = make_pipeline(StandardScaler(), xgb.XGBClassifier())\n",
        "clf.fit(x_train, y_train)"
      ]
    },
    {
      "cell_type": "code",
      "execution_count": null,
      "metadata": {
        "id": "o70MIB2h08Gw"
      },
      "outputs": [],
      "source": [
        "y_pred = clf.predict(x_test)"
      ]
    },
    {
      "cell_type": "code",
      "execution_count": null,
      "metadata": {
        "id": "hqVdjt2n1RyA"
      },
      "outputs": [],
      "source": [
        "from sklearn.metrics import classification_report"
      ]
    },
    {
      "cell_type": "code",
      "execution_count": null,
      "metadata": {
        "colab": {
          "base_uri": "https://localhost:8080/"
        },
        "id": "6owhBwny1WzG",
        "outputId": "bcd13667-e242-4b7c-a2e6-0d850a824243"
      },
      "outputs": [],
      "source": [
        "print(classification_report(y_test, y_pred))"
      ]
    },
    {
      "cell_type": "code",
      "execution_count": null,
      "metadata": {
        "colab": {
          "base_uri": "https://localhost:8080/"
        },
        "id": "VK2kl2B-2RJH",
        "outputId": "7acce7e2-c832-48e5-f656-e4d5cd9c8afc"
      },
      "outputs": [],
      "source": [
        "zemel_fairness(y_pred, x_test['gender'])"
      ]
    },
    {
      "cell_type": "code",
      "execution_count": null,
      "metadata": {
        "colab": {
          "base_uri": "https://localhost:8080/"
        },
        "id": "46-UWyM02RJI",
        "outputId": "c9d25a07-5725-4051-d53f-0ed5d8b92759"
      },
      "outputs": [],
      "source": [
        "disparate_impact(y_pred, x_test['gender'])"
      ]
    },
    {
      "cell_type": "markdown",
      "metadata": {
        "id": "DhiPmGBh2dO4"
      },
      "source": [
        "# Unbiased model implementation"
      ]
    },
    {
      "cell_type": "code",
      "execution_count": null,
      "metadata": {
        "id": "LhZ6teMx2iFX"
      },
      "outputs": [],
      "source": [
        "prob_income = clf.predict_proba(df[features])\n",
        "pred_income = clf.predict(df[features])"
      ]
    },
    {
      "cell_type": "code",
      "execution_count": null,
      "metadata": {
        "id": "whACfrHz7cqo"
      },
      "outputs": [],
      "source": [
        "dfm = df.copy()\n",
        "dfm['prob_income'] = np.max(prob_income, axis=1)\n",
        "dfm['pred_income'] = pred_income"
      ]
    },
    {
      "cell_type": "code",
      "execution_count": null,
      "metadata": {
        "id": "fHRuBWPY70z4"
      },
      "outputs": [],
      "source": [
        "cp = dfm[(dfm['gender'] == MALE) & (dfm['income'] == 1)]\n",
        "cp = cp.sort_values('prob_income')"
      ]
    },
    {
      "cell_type": "code",
      "execution_count": null,
      "metadata": {
        "id": "gF6hsRgc8fjx"
      },
      "outputs": [],
      "source": [
        "cd = dfm[(dfm['gender'] == FEMALE) & (dfm['income'] == 0)]\n",
        "cd = cd.sort_values('prob_income', ascending=False)"
      ]
    },
    {
      "cell_type": "code",
      "execution_count": null,
      "metadata": {
        "id": "fCz0dE6X8434"
      },
      "outputs": [],
      "source": [
        "n_male = (dfm['gender'] == MALE).sum()\n",
        "n_female = (dfm['gender'] == FEMALE).sum()\n",
        "n_male_income = ((dfm['gender'] == MALE) & (dfm['pred_income'] == 1)).sum()\n",
        "n_female_income = ((dfm['gender'] == FEMALE) & (dfm['pred_income'] == 1)).sum()"
      ]
    },
    {
      "cell_type": "code",
      "execution_count": null,
      "metadata": {
        "id": "tL8mXai88xFP"
      },
      "outputs": [],
      "source": [
        "N = ((n_female * n_male_income) - (n_male * n_female_income)) / (n_male + n_female)"
      ]
    },
    {
      "cell_type": "code",
      "execution_count": null,
      "metadata": {
        "colab": {
          "base_uri": "https://localhost:8080/"
        },
        "id": "gLiMnHhg92fQ",
        "outputId": "fff43e6b-21ba-4d9c-e129-a7704ce72598"
      },
      "outputs": [],
      "source": [
        "N"
      ]
    },
    {
      "cell_type": "code",
      "execution_count": null,
      "metadata": {
        "colab": {
          "base_uri": "https://localhost:8080/"
        },
        "id": "vkc6I5mz931t",
        "outputId": "3e8f7457-0d76-4339-ee81-5284e490756b"
      },
      "outputs": [],
      "source": [
        "for i in range(round(N)):\n",
        "  cp_c = cp.iloc[i]['income']\n",
        "  cd_c = cd.iloc[i]['income']\n",
        "\n",
        "  cp.iloc[i]['income'] = cd_c\n",
        "  cd.iloc[i]['income'] = cp_c"
      ]
    },
    {
      "cell_type": "code",
      "execution_count": null,
      "metadata": {
        "id": "9mfZCpOr-Wow"
      },
      "outputs": [],
      "source": [
        "new_df = pd.concat([cp, cd]).sample(frac=1)"
      ]
    },
    {
      "cell_type": "code",
      "execution_count": null,
      "metadata": {
        "id": "4mE4z1vp-3KJ"
      },
      "outputs": [],
      "source": [
        "train, test = train_test_split(new_df, test_size=0.3)"
      ]
    },
    {
      "cell_type": "code",
      "execution_count": null,
      "metadata": {
        "id": "xvc6bnWv-3KJ"
      },
      "outputs": [],
      "source": [
        "x_train, y_train = train[features], train['income']\n",
        "x_test, y_test = test[features], test['income']"
      ]
    },
    {
      "cell_type": "code",
      "execution_count": null,
      "metadata": {
        "colab": {
          "base_uri": "https://localhost:8080/",
          "height": 125
        },
        "id": "Dvb3sK7b-3KJ",
        "outputId": "40035b6c-3c92-4481-87f9-5cd702aeba24"
      },
      "outputs": [],
      "source": [
        "clf = make_pipeline(StandardScaler(), xgb.XGBClassifier())\n",
        "clf.fit(x_train, y_train)"
      ]
    },
    {
      "cell_type": "code",
      "execution_count": null,
      "metadata": {
        "id": "QLPXL1RQ-3KJ"
      },
      "outputs": [],
      "source": [
        "y_pred = clf.predict(x_test)"
      ]
    },
    {
      "cell_type": "code",
      "execution_count": null,
      "metadata": {
        "id": "BPOysDFR-3KJ"
      },
      "outputs": [],
      "source": [
        "from sklearn.metrics import classification_report"
      ]
    },
    {
      "cell_type": "code",
      "execution_count": null,
      "metadata": {
        "colab": {
          "base_uri": "https://localhost:8080/"
        },
        "id": "F4SpsAEj-3KK",
        "outputId": "9418368e-7634-443e-8277-da4d1cc2b960"
      },
      "outputs": [],
      "source": [
        "print(classification_report(y_test, y_pred))"
      ]
    },
    {
      "cell_type": "code",
      "execution_count": null,
      "metadata": {
        "colab": {
          "base_uri": "https://localhost:8080/"
        },
        "id": "VQqPYJGE-3KK",
        "outputId": "47d93e1d-a6ed-4b65-b221-4b467a025754"
      },
      "outputs": [],
      "source": [
        "zemel_fairness(y_pred, x_test['gender'])"
      ]
    },
    {
      "cell_type": "code",
      "execution_count": null,
      "metadata": {
        "colab": {
          "base_uri": "https://localhost:8080/"
        },
        "id": "_qJJkA37-3KK",
        "outputId": "d288f565-a374-4eb3-fcde-6732c684b6e7"
      },
      "outputs": [],
      "source": [
        "disparate_impact(y_pred, x_test['gender'])"
      ]
    }
  ],
  "metadata": {
    "colab": {
      "provenance": []
    },
    "kernelspec": {
      "display_name": "Python 3",
      "name": "python3"
    },
    "language_info": {
      "name": "python"
    }
  },
  "nbformat": 4,
  "nbformat_minor": 0
}
