{
  "cells": [
    {
      "cell_type": "code",
      "execution_count": null,
      "metadata": {
        "colab": {
          "base_uri": "https://localhost:8080/"
        },
        "id": "jMil4SEaMQYw",
        "outputId": "e7e67507-648e-4b31-c2bf-3a4bbd325612"
      },
      "outputs": [],
      "source": [
        "from google.colab import drive\n",
        "drive.mount('/content/drive')"
      ]
    },
    {
      "cell_type": "code",
      "execution_count": null,
      "metadata": {
        "id": "AmoJdT-qMV30"
      },
      "outputs": [],
      "source": [
        "!unzip -q /content/drive/MyDrive/TAI_HW4_SECURITY/HW4.zip"
      ]
    },
    {
      "cell_type": "code",
      "execution_count": null,
      "metadata": {
        "colab": {
          "base_uri": "https://localhost:8080/"
        },
        "id": "G6lyaPc1MwZE",
        "outputId": "44f741c5-1bfc-4944-e3ae-3e7e23922e3d"
      },
      "outputs": [],
      "source": [
        "!unrar x /content/poisened_models.rar"
      ]
    },
    {
      "cell_type": "code",
      "execution_count": null,
      "metadata": {
        "id": "N9DMqSIbMzuu"
      },
      "outputs": [],
      "source": [
        "poisened_model_weights = '/content/poisened_model_3.pth'"
      ]
    },
    {
      "cell_type": "code",
      "execution_count": null,
      "metadata": {
        "id": "xeNGCp_WRinF"
      },
      "outputs": [],
      "source": [
        "import numpy as np\n",
        "import matplotlib.pyplot as plt"
      ]
    },
    {
      "cell_type": "code",
      "execution_count": null,
      "metadata": {
        "id": "IjRM8Vv1NIng"
      },
      "outputs": [],
      "source": [
        "import torch"
      ]
    },
    {
      "cell_type": "code",
      "execution_count": null,
      "metadata": {
        "id": "tJ83zND7OSzU"
      },
      "outputs": [],
      "source": [
        "device = torch.device('cuda' if torch.cuda.is_available() else 'cpu')"
      ]
    },
    {
      "cell_type": "code",
      "execution_count": null,
      "metadata": {
        "id": "3HdD2rcfNLVj"
      },
      "outputs": [],
      "source": [
        "import torch.nn as nn\n",
        "import torch.nn.functional as F\n",
        "\n",
        "\n",
        "class Net(nn.Module):\n",
        "    def __init__(self):\n",
        "        super().__init__()\n",
        "        self.conv1 = nn.Sequential(\n",
        "             nn.Conv2d(1, 16, kernel_size=(5, 5), stride=(1, 1)),\n",
        "             nn.ReLU(),\n",
        "             nn.AvgPool2d(kernel_size=2, stride=2, padding=0),\n",
        "        )\n",
        "        self.conv2 = nn.Sequential(\n",
        "             nn.Conv2d(16, 32, kernel_size=(5, 5), stride=(1, 1)),\n",
        "             nn.ReLU(),\n",
        "             nn.AvgPool2d(kernel_size=2, stride=2, padding=0),\n",
        "        )\n",
        "        self.fc1 = nn.Sequential(\n",
        "             nn.Linear(in_features=512, out_features=512, bias=True),\n",
        "             nn.ReLU(),\n",
        "        )\n",
        "        self.fc2 = nn.Sequential(\n",
        "             nn.Linear(in_features=512, out_features=10, bias=True),\n",
        "             nn.ReLU(),\n",
        "        )\n",
        "        self.dropout = nn.Dropout(p=0.5, inplace=False)\n",
        "\n",
        "\n",
        "    def forward(self, x):\n",
        "        x = self.conv1(x)\n",
        "        x = self.conv2(x)\n",
        "        x = torch.flatten(x, 1)\n",
        "        x = self.fc1(x)\n",
        "        x = self.fc2(x)\n",
        "        x = self.dropout(x)\n",
        "        return x\n"
      ]
    },
    {
      "cell_type": "code",
      "execution_count": null,
      "metadata": {
        "colab": {
          "base_uri": "https://localhost:8080/"
        },
        "id": "2pikkNdQN7o9",
        "outputId": "797a83a0-e5a9-4291-8da4-e9c4895d6a06"
      },
      "outputs": [],
      "source": [
        "model = Net()\n",
        "model.load_state_dict(torch.load(poisened_model_weights, map_location=device))"
      ]
    },
    {
      "cell_type": "code",
      "execution_count": null,
      "metadata": {
        "id": "nArBN0-KN6Nv"
      },
      "outputs": [],
      "source": [
        "for param in model.parameters():\n",
        "    param.requires_grad = False"
      ]
    },
    {
      "cell_type": "code",
      "execution_count": null,
      "metadata": {
        "colab": {
          "base_uri": "https://localhost:8080/"
        },
        "id": "TUk_efSUs--6",
        "outputId": "728c0843-eeb4-4c71-9b2c-9e7d006b19b5"
      },
      "outputs": [],
      "source": [
        "model.eval()"
      ]
    },
    {
      "cell_type": "code",
      "execution_count": null,
      "metadata": {
        "id": "37XE2W0UPzky"
      },
      "outputs": [],
      "source": [
        "import torchvision\n",
        "import torchvision.transforms as transforms"
      ]
    },
    {
      "cell_type": "code",
      "execution_count": null,
      "metadata": {
        "id": "uB54lwa4VRnK"
      },
      "outputs": [],
      "source": [
        "BATCH_SIZE = 16"
      ]
    },
    {
      "cell_type": "code",
      "execution_count": null,
      "metadata": {
        "id": "hXpvUnDAQB8b"
      },
      "outputs": [],
      "source": [
        "transform = transforms.Compose([\n",
        "    transforms.ToTensor(),\n",
        "])\n",
        "\n",
        "training_set = torchvision.datasets.MNIST('./data', train=True, transform=transform, download=True)\n",
        "validation_set = torchvision.datasets.MNIST('./data', train=False, transform=transform, download=True)\n",
        "\n",
        "training_loader = torch.utils.data.DataLoader(training_set, batch_size=BATCH_SIZE, shuffle=True)\n",
        "validation_loader = torch.utils.data.DataLoader(validation_set, batch_size=BATCH_SIZE, shuffle=False)"
      ]
    },
    {
      "cell_type": "markdown",
      "metadata": {
        "id": "jMIxUZWEPGG-"
      },
      "source": [
        "# Trigger reverse engineering"
      ]
    },
    {
      "cell_type": "code",
      "execution_count": null,
      "metadata": {
        "id": "s5MLX7UROXzk"
      },
      "outputs": [],
      "source": [
        "class OptimizationProblem(nn.Module):\n",
        "    def __init__(self, model):\n",
        "        super(OptimizationProblem, self).__init__()\n",
        "        self.mask_tanh = nn.Parameter(torch.ones((1, 28, 28)))\n",
        "        self.pattern_tanh = nn.Parameter(torch.ones((1, 28, 28)))\n",
        "        self.model = model\n",
        "\n",
        "    def forward(self, x):\n",
        "        mask = self.get_raw_mask()\n",
        "        pattern = self.get_raw_pattern()\n",
        "        x = (1 - mask) * x + mask * pattern\n",
        "\n",
        "        return self.model(x)\n",
        "\n",
        "    def get_raw_mask(self):\n",
        "        mask = nn.Tanh()(self.mask_tanh)\n",
        "        return mask / 2 + 0.5\n",
        "\n",
        "    def get_raw_pattern(self):\n",
        "        pattern = nn.Tanh()(self.pattern_tanh)\n",
        "        return pattern / 2 + 0.5"
      ]
    },
    {
      "cell_type": "code",
      "execution_count": null,
      "metadata": {
        "id": "1ipDfuMDVEwR"
      },
      "outputs": [],
      "source": [
        "from tqdm import tqdm"
      ]
    },
    {
      "cell_type": "code",
      "execution_count": null,
      "metadata": {
        "id": "mVSL-bn_Soy-"
      },
      "outputs": [],
      "source": [
        "def optimize_mask(model, label, training_loader, validation_loader, epochs):\n",
        "  problem = OptimizationProblem(model).to(device)\n",
        "  optimizer = torch.optim.Adam(problem.parameters(), lr=1e-2)\n",
        "  criterion = nn.CrossEntropyLoss()\n",
        "\n",
        "  losses = []\n",
        "\n",
        "  lambda_ = 1e-2\n",
        "\n",
        "  targets = torch.ones((BATCH_SIZE), dtype=torch.int64).to(device) * label\n",
        "\n",
        "  for epoch in range(epochs):\n",
        "    for i, (inputs, _) in enumerate((pbar := tqdm(training_loader))):\n",
        "      optimizer.zero_grad()\n",
        "\n",
        "      inputs = inputs.to(device)\n",
        "      predictions = problem(inputs)\n",
        "\n",
        "      loss_c = criterion(predictions, targets)\n",
        "      loss_r = torch.norm(problem.get_raw_mask(), 1)\n",
        "      total_loss = loss_c + lambda_ * loss_r\n",
        "      total_loss.backward()\n",
        "      optimizer.step()\n",
        "\n",
        "      if i % 100 == 0:\n",
        "        pbar.set_description(f\"Epoch: {epoch + 1}\\tLoss: {total_loss.item():.5}\\tCLoss: {loss_c.item():.5}\\tRLoss: {loss_r.item():.5}\\tLambda: {lambda_:.5}\")\n",
        "\n",
        "  return problem"
      ]
    },
    {
      "cell_type": "code",
      "execution_count": null,
      "metadata": {
        "id": "qqJw54GDgfhA"
      },
      "outputs": [],
      "source": [
        "masks = []\n",
        "triggers = []\n",
        "patterns = []"
      ]
    },
    {
      "cell_type": "code",
      "execution_count": null,
      "metadata": {
        "colab": {
          "base_uri": "https://localhost:8080/",
          "height": 1000
        },
        "id": "ib_CCG90WmpO",
        "outputId": "3e536dca-49b3-4c9f-f91f-57e21b2f58bc"
      },
      "outputs": [],
      "source": [
        "for i in range(10):\n",
        "  problem = optimize_mask(model, i, training_loader, validation_loader, 2)\n",
        "\n",
        "  mask = problem.get_raw_mask().cpu().detach()\n",
        "  pattern = problem.get_raw_pattern().cpu().detach()\n",
        "  trigger = mask * pattern\n",
        "\n",
        "  masks.append(mask)\n",
        "  patterns.append(pattern)\n",
        "  triggers.append(trigger)\n",
        "\n",
        "  mask =  np.transpose(mask, (1, 2, 0))\n",
        "  pattern = np.transpose(pattern, (1, 2, 0))\n",
        "  trigger = np.transpose(trigger, (1, 2, 0))\n",
        "\n",
        "  plt.figure()\n",
        "  plt.subplot(1, 3, 1)\n",
        "  plt.title(f\"Mask {i}\")\n",
        "  plt.imshow(mask)\n",
        "\n",
        "  plt.subplot(1, 3, 2)\n",
        "  plt.title(f\"Pattern {i}\")\n",
        "  plt.imshow(pattern)\n",
        "\n",
        "  plt.subplot(1, 3, 3)\n",
        "  plt.title(f\"Trigger {i}\")\n",
        "  plt.imshow(trigger)\n",
        "  plt.show()"
      ]
    },
    {
      "cell_type": "code",
      "execution_count": null,
      "metadata": {
        "colab": {
          "base_uri": "https://localhost:8080/",
          "height": 482
        },
        "id": "JeiOW7_Xg2_u",
        "outputId": "ec159663-5624-4b6e-c710-88f3de0e6073"
      },
      "outputs": [],
      "source": [
        "norms = torch.stack([torch.norm(m, 1) for m in masks])\n",
        "consistency_constant = 1.4826\n",
        "median = torch.median(norms)\n",
        "mad = consistency_constant * torch.median(torch.abs(norms - median))\n",
        "min_mad = torch.abs(torch.min(norms) - median) / mad\n",
        "\n",
        "print(f\"Median: {median:.5}, MAD: {mad:.5}\")\n",
        "print(f\"Anomaly index: {min_mad:.5}\")\n",
        "\n",
        "infected_label = -1\n",
        "\n",
        "for label in range(len(norms)):\n",
        "  if norms[label] > median:\n",
        "      continue\n",
        "  if torch.abs(norms[label] - median) / mad > 2:\n",
        "      print(f'Label: {label} is detected as infected.')\n",
        "      plt.figure()\n",
        "      plt.imshow(np.transpose(masks[label], (1, 2, 0)))\n",
        "\n",
        "      infected_label = label"
      ]
    },
    {
      "cell_type": "markdown",
      "metadata": {
        "id": "FOntpCZ4niXN"
      },
      "source": [
        "# Unlearning"
      ]
    },
    {
      "cell_type": "code",
      "execution_count": null,
      "metadata": {
        "id": "YBrCLH90qkt5"
      },
      "outputs": [],
      "source": [
        "trigger = torch.zeros((1, 28, 28))\n",
        "trigger[0, 0, 24:] = 1\n",
        "trigger[0, 1, 24:] = 1\n",
        "\n",
        "mask = trigger.clone()\n",
        "pattern = trigger.clone()\n",
        "infected_label = 3"
      ]
    },
    {
      "cell_type": "code",
      "execution_count": null,
      "metadata": {
        "colab": {
          "base_uri": "https://localhost:8080/"
        },
        "id": "3D9zUWF8r9ls",
        "outputId": "c7e08751-09c5-4adc-97f7-3f901c1459a2"
      },
      "outputs": [],
      "source": [
        "model = Net()\n",
        "model.load_state_dict(torch.load(poisened_model_weights, map_location=device))\n",
        "\n",
        "for param in model.parameters():\n",
        "    param.requires_grad = True\n",
        "\n",
        "model.to(device)\n",
        "model.train()"
      ]
    },
    {
      "cell_type": "code",
      "execution_count": null,
      "metadata": {
        "id": "NHZ7vBOIntaX"
      },
      "outputs": [],
      "source": [
        "transform = transforms.Compose([\n",
        "    transforms.ToTensor(),\n",
        "    transforms.RandomApply([\n",
        "        transforms.Lambda(lambda x: (1 - mask) * x + mask * pattern)\n",
        "    ], 0.2),\n",
        "])\n",
        "\n",
        "validation_set = torchvision.datasets.MNIST('./data', train=False, transform=transform, download=True)\n",
        "validation_loader = torch.utils.data.DataLoader(validation_set, batch_size=BATCH_SIZE, shuffle=False)"
      ]
    },
    {
      "cell_type": "code",
      "execution_count": null,
      "metadata": {
        "id": "YfGpdw3osLLS"
      },
      "outputs": [],
      "source": [
        "def validate_model(model, loader):\n",
        "  model.eval()\n",
        "\n",
        "  attack_success = 0\n",
        "  attack_targets = torch.ones((BATCH_SIZE), dtype=torch.int64).to(device) * infected_label\n",
        "\n",
        "  for i, (inputs, targets) in enumerate(validation_loader):\n",
        "    inputs = inputs.to(device)\n",
        "    targets = targets.to(device)\n",
        "    predictions = model(inputs)\n",
        "    attack_success += torch.sum((torch.argmax(predictions, dim=1) == attack_targets) & (torch.argmax(predictions, dim=1) != targets)).detach()\n",
        "\n",
        "  model.train()\n",
        "  return attack_success"
      ]
    },
    {
      "cell_type": "code",
      "execution_count": null,
      "metadata": {
        "colab": {
          "base_uri": "https://localhost:8080/"
        },
        "id": "L7xp7v-RskQt",
        "outputId": "e9dfc38b-7f43-43b0-a5a7-0ee05c20ac9b"
      },
      "outputs": [],
      "source": [
        "print(f\"Attack Success Rate before: {validate_model(model, validation_loader)}\")"
      ]
    },
    {
      "cell_type": "code",
      "execution_count": null,
      "metadata": {
        "colab": {
          "base_uri": "https://localhost:8080/"
        },
        "id": "GklIr4lDrZkI",
        "outputId": "fbfb3fa0-f72a-4e4f-d5cd-9d20e60c1ac7"
      },
      "outputs": [],
      "source": [
        "optimizer = torch.optim.Adam(model.parameters(), lr=1e-3)\n",
        "criterion = nn.CrossEntropyLoss()\n",
        "\n",
        "for i, (inputs, targets) in enumerate((pbar := tqdm(validation_loader))):\n",
        "  optimizer.zero_grad()\n",
        "\n",
        "  inputs = inputs.to(device)\n",
        "  targets = targets.to(device)\n",
        "\n",
        "  predictions = model(inputs)\n",
        "\n",
        "  loss = criterion(predictions, targets)\n",
        "  loss.backward()\n",
        "  optimizer.step()\n",
        "\n",
        "  pbar.set_description(f\"Loss: {loss.item():.5}\")"
      ]
    },
    {
      "cell_type": "code",
      "execution_count": null,
      "metadata": {
        "colab": {
          "base_uri": "https://localhost:8080/"
        },
        "id": "rCC_oJl6sxuv",
        "outputId": "c3947a8a-24d0-4544-d0c4-5e7727d3080c"
      },
      "outputs": [],
      "source": [
        "print(f\"Attack Success Rate after: {validate_model(model, validation_loader)}\")"
      ]
    }
  ],
  "metadata": {
    "accelerator": "GPU",
    "colab": {
      "gpuType": "T4",
      "provenance": []
    },
    "kernelspec": {
      "display_name": "Python 3",
      "name": "python3"
    },
    "language_info": {
      "name": "python"
    }
  },
  "nbformat": 4,
  "nbformat_minor": 0
}
